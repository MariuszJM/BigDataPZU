{
 "cells": [
  {
   "cell_type": "markdown",
   "id": "4adc59e2",
   "metadata": {},
   "source": [
    "send_to_kafka\n"
   ]
  },
  {
   "cell_type": "code",
   "execution_count": null,
   "id": "8e398580",
   "metadata": {},
   "outputs": [
    {
     "name": "stderr",
     "output_type": "stream",
     "text": [
      "[2024-12-17 15:54:09,663] [INFO] : Topics required for this application: \n",
      "INFO:quixstreams.app:Topics required for this application: \n",
      "[2024-12-17 15:54:09,664] [DEBUG] : No topics provided for creation...skipping!\n",
      "DEBUG:quixstreams.models.topics.manager:No topics provided for creation...skipping!\n",
      "[2024-12-17 15:54:09,664] [INFO] : Validating Kafka topics exist and are configured correctly...\n",
      "INFO:quixstreams.models.topics.manager:Validating Kafka topics exist and are configured correctly...\n",
      "%3|1734447249.665|FAIL|rdkafka#producer-1| [thrd:localhost:9092/bootstrap]: localhost:9092/bootstrap: Connect to ipv4#127.0.0.1:9092 failed: Connection refused (after 0ms in state CONNECT)\n",
      "%3|1734447250.665|FAIL|rdkafka#producer-1| [thrd:localhost:9092/bootstrap]: localhost:9092/bootstrap: Connect to ipv4#127.0.0.1:9092 failed: Connection refused (after 0ms in state CONNECT, 1 identical error(s) suppressed)\n",
      "%3|1734447280.666|FAIL|rdkafka#producer-1| [thrd:localhost:9092/bootstrap]: localhost:9092/bootstrap: Connect to ipv4#127.0.0.1:9092 failed: Connection refused (after 0ms in state CONNECT, 30 identical error(s) suppressed)\n"
     ]
    }
   ],
   "source": []
  },
  {
   "cell_type": "code",
   "execution_count": null,
   "id": "fca2e134",
   "metadata": {},
   "outputs": [],
   "source": []
  }
 ],
 "metadata": {
  "kernelspec": {
   "display_name": ".venv",
   "language": "python",
   "name": "python3"
  },
  "language_info": {
   "codemirror_mode": {
    "name": "ipython",
    "version": 3
   },
   "file_extension": ".py",
   "mimetype": "text/x-python",
   "name": "python",
   "nbconvert_exporter": "python",
   "pygments_lexer": "ipython3",
   "version": "3.12.3"
  }
 },
 "nbformat": 4,
 "nbformat_minor": 5
}
